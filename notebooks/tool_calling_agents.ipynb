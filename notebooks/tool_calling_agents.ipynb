{
  "cells": [
    {
      "cell_type": "markdown",
      "metadata": {
        "id": "Pi9CF0391ARI"
      },
      "source": [
        "# Integrating Agents With Tools\n",
        "\n",
        "This notebook is part of the [Hugging Face Agents Course](https://www.hf.co/learn/agents-course), a free Course from beginner to expert, where you learn to build Agents.\n",
        "\n",
        "![Agents course share](https://huggingface.co/datasets/agents-course/course-images/resolve/main/en/communication/share.png)"
      ]
    },
    {
      "cell_type": "markdown",
      "metadata": {
        "id": "9gsYky7F1GzT"
      },
      "source": [
        "## Let's install the dependencies and login to our HF account to access the Inference API\n",
        "\n",
        "If you haven't installed `smolagents` yet, you can do so by running the following command:"
      ]
    },
    {
      "cell_type": "code",
      "execution_count": 1,
      "metadata": {
        "id": "MoFopncp0pnJ"
      },
      "outputs": [],
      "source": [
        "#!pip install smolagents -U"
      ]
    },
    {
      "cell_type": "markdown",
      "metadata": {
        "id": "cH-4W1GhYL4T"
      },
      "source": [
        "Let's also login to the Hugging Face Hub to have access to the Inference API."
      ]
    },
    {
      "cell_type": "code",
      "execution_count": 2,
      "metadata": {
        "id": "TFTc-ry70y1f"
      },
      "outputs": [
        {
          "data": {
            "application/vnd.jupyter.widget-view+json": {
              "model_id": "90fbf01e10424603872da8094211e8b3",
              "version_major": 2,
              "version_minor": 0
            },
            "text/plain": [
              "VBox(children=(HTML(value='<center> <img\\nsrc=https://huggingface.co/front/assets/huggingface_logo-noborder.sv…"
            ]
          },
          "metadata": {},
          "output_type": "display_data"
        }
      ],
      "source": [
        "from huggingface_hub import notebook_login\n",
        "\n",
        "notebook_login()"
      ]
    },
    {
      "cell_type": "markdown",
      "metadata": {
        "id": "ekKxaZrd1HlB"
      },
      "source": [
        "## Selecting a Playlist for the Party Using `smolagents` and a `ToolCallingAgent`\n",
        "\n",
        "Let's revisit the previous example where Alfred started party preparations, but this time we'll use a `ToolCallingAgent` to highlight the difference. We'll build an agent that can search the web using DuckDuckGo, just like in our Code Agent example. The only difference is the agent type - the framework handles everything else:"
      ]
    },
    {
      "cell_type": "code",
      "execution_count": 3,
      "metadata": {
        "colab": {
          "base_uri": "https://localhost:8080/",
          "height": 1000
        },
        "id": "6IInDOUN01sP",
        "outputId": "e49f2360-d377-4ed8-b7ae-8da4a3e3757b"
      },
      "outputs": [
        {
          "data": {
            "text/html": [
              "<pre style=\"white-space:pre;overflow-x:auto;line-height:normal;font-family:Menlo,'DejaVu Sans Mono',consolas,'Courier New',monospace\"><span style=\"color: #d4b702; text-decoration-color: #d4b702\">╭──────────────────────────────────────────────────── </span><span style=\"color: #d4b702; text-decoration-color: #d4b702; font-weight: bold\">New run</span><span style=\"color: #d4b702; text-decoration-color: #d4b702\"> ────────────────────────────────────────────────────╮</span>\n",
              "<span style=\"color: #d4b702; text-decoration-color: #d4b702\">│</span>                                                                                                                 <span style=\"color: #d4b702; text-decoration-color: #d4b702\">│</span>\n",
              "<span style=\"color: #d4b702; text-decoration-color: #d4b702\">│</span> <span style=\"font-weight: bold\">Search for the best music recommendations for a party at the Wayne's mansion.</span>                                   <span style=\"color: #d4b702; text-decoration-color: #d4b702\">│</span>\n",
              "<span style=\"color: #d4b702; text-decoration-color: #d4b702\">│</span>                                                                                                                 <span style=\"color: #d4b702; text-decoration-color: #d4b702\">│</span>\n",
              "<span style=\"color: #d4b702; text-decoration-color: #d4b702\">╰─ HfApiModel - Qwen/Qwen2.5-Coder-32B-Instruct ──────────────────────────────────────────────────────────────────╯</span>\n",
              "</pre>\n"
            ],
            "text/plain": [
              "\u001b[38;2;212;183;2m╭─\u001b[0m\u001b[38;2;212;183;2m───────────────────────────────────────────────────\u001b[0m\u001b[38;2;212;183;2m \u001b[0m\u001b[1;38;2;212;183;2mNew run\u001b[0m\u001b[38;2;212;183;2m \u001b[0m\u001b[38;2;212;183;2m───────────────────────────────────────────────────\u001b[0m\u001b[38;2;212;183;2m─╮\u001b[0m\n",
              "\u001b[38;2;212;183;2m│\u001b[0m                                                                                                                 \u001b[38;2;212;183;2m│\u001b[0m\n",
              "\u001b[38;2;212;183;2m│\u001b[0m \u001b[1mSearch for the best music recommendations for a party at the Wayne's mansion.\u001b[0m                                   \u001b[38;2;212;183;2m│\u001b[0m\n",
              "\u001b[38;2;212;183;2m│\u001b[0m                                                                                                                 \u001b[38;2;212;183;2m│\u001b[0m\n",
              "\u001b[38;2;212;183;2m╰─\u001b[0m\u001b[38;2;212;183;2m HfApiModel - Qwen/Qwen2.5-Coder-32B-Instruct \u001b[0m\u001b[38;2;212;183;2m─────────────────────────────────────────────────────────────────\u001b[0m\u001b[38;2;212;183;2m─╯\u001b[0m\n"
            ]
          },
          "metadata": {},
          "output_type": "display_data"
        },
        {
          "data": {
            "text/html": [
              "<pre style=\"white-space:pre;overflow-x:auto;line-height:normal;font-family:Menlo,'DejaVu Sans Mono',consolas,'Courier New',monospace\"><span style=\"color: #d4b702; text-decoration-color: #d4b702\">━━━━━━━━━━━━━━━━━━━━━━━━━━━━━━━━━━━━━━━━━━━━━━━━━━━━━ </span><span style=\"font-weight: bold\">Step </span><span style=\"color: #008080; text-decoration-color: #008080; font-weight: bold\">1</span><span style=\"color: #d4b702; text-decoration-color: #d4b702\"> ━━━━━━━━━━━━━━━━━━━━━━━━━━━━━━━━━━━━━━━━━━━━━━━━━━━━━━</span>\n",
              "</pre>\n"
            ],
            "text/plain": [
              "\u001b[38;2;212;183;2m━━━━━━━━━━━━━━━━━━━━━━━━━━━━━━━━━━━━━━━━━━━━━━━━━━━━━ \u001b[0m\u001b[1mStep \u001b[0m\u001b[1;36m1\u001b[0m\u001b[38;2;212;183;2m ━━━━━━━━━━━━━━━━━━━━━━━━━━━━━━━━━━━━━━━━━━━━━━━━━━━━━━\u001b[0m\n"
            ]
          },
          "metadata": {},
          "output_type": "display_data"
        },
        {
          "data": {
            "text/html": [
              "<pre style=\"white-space:pre;overflow-x:auto;line-height:normal;font-family:Menlo,'DejaVu Sans Mono',consolas,'Courier New',monospace\">╭─────────────────────────────────────────────────────────────────────────────────────────────────────────────────╮\n",
              "│ Calling tool: 'web_search' with arguments: {'query': \"best music recommendations for a party at Wayne's         │\n",
              "│ mansion\"}                                                                                                       │\n",
              "╰─────────────────────────────────────────────────────────────────────────────────────────────────────────────────╯\n",
              "</pre>\n"
            ],
            "text/plain": [
              "╭─────────────────────────────────────────────────────────────────────────────────────────────────────────────────╮\n",
              "│ Calling tool: 'web_search' with arguments: {'query': \"best music recommendations for a party at Wayne's         │\n",
              "│ mansion\"}                                                                                                       │\n",
              "╰─────────────────────────────────────────────────────────────────────────────────────────────────────────────────╯\n"
            ]
          },
          "metadata": {},
          "output_type": "display_data"
        },
        {
          "data": {
            "text/html": [
              "<pre style=\"white-space:pre;overflow-x:auto;line-height:normal;font-family:Menlo,'DejaVu Sans Mono',consolas,'Courier New',monospace\">Observations: ## Search Results\n",
              "\n",
              "|<span style=\"color: #008080; text-decoration-color: #008080; font-weight: bold\">45</span> Songs That Get Your Event Guests on the Dance Floor Every \n",
              "Time<span style=\"font-weight: bold\">](</span><span style=\"color: #0000ff; text-decoration-color: #0000ff; text-decoration: underline\">https://hub.theeventplannerexpo.com/entertainment/35-songs-that-get-your-event-guests-on-the-dance-floor-ever</span>\n",
              "<span style=\"color: #0000ff; text-decoration-color: #0000ff; text-decoration: underline\">y-time)</span>\n",
              "You'll know your client's event best, including music genre preferences and styles. But these songs are wildly \n",
              "popular among many generations and are always great to have on standby should your dance guests need a boost. Party\n",
              "Songs <span style=\"color: #008000; text-decoration-color: #008000\">\"Flowers\"</span> by Miley Cyrus <span style=\"font-weight: bold\">(</span><span style=\"color: #008080; text-decoration-color: #008080; font-weight: bold\">2023</span><span style=\"font-weight: bold\">)</span> <span style=\"color: #008000; text-decoration-color: #008000\">\"TQG\"</span> by KAROL G &amp; Shakira <span style=\"font-weight: bold\">(</span><span style=\"color: #008080; text-decoration-color: #008080; font-weight: bold\">2023</span><span style=\"font-weight: bold\">)</span> <span style=\"color: #008000; text-decoration-color: #008000\">\"TRUSTFALL\"</span> by P!nk <span style=\"font-weight: bold\">(</span><span style=\"color: #008080; text-decoration-color: #008080; font-weight: bold\">2023</span><span style=\"font-weight: bold\">)</span>\n",
              "\n",
              "|The <span style=\"color: #008080; text-decoration-color: #008080; font-weight: bold\">75</span> Best Party Songs That Will Get Everyone Dancing - \n",
              "Gear4music<span style=\"font-weight: bold\">](</span><span style=\"color: #0000ff; text-decoration-color: #0000ff; text-decoration: underline\">https://www.gear4music.com/blog/best-party-songs/)</span>\n",
              "The best party songs <span style=\"color: #008080; text-decoration-color: #008080; font-weight: bold\">1</span>. <span style=\"color: #008000; text-decoration-color: #008000\">\"September\"</span> - Earth, Wind &amp; Fire <span style=\"font-weight: bold\">(</span><span style=\"color: #008080; text-decoration-color: #008080; font-weight: bold\">1978</span><span style=\"font-weight: bold\">)</span> Quite possibly the best party song. An infectious \n",
              "mix of funk and soul, <span style=\"color: #008000; text-decoration-color: #008000\">\"September\"</span> is celebrated for its upbeat melody and <span style=\"color: #008000; text-decoration-color: #008000\">\"ba-dee-ya\"</span> chorus, making it a timeless \n",
              "dance favorite.\n",
              "\n",
              "|<span style=\"color: #008080; text-decoration-color: #008080; font-weight: bold\">50</span> Songs on Every Event Planner's Playlist - \n",
              "Eventbrite<span style=\"font-weight: bold\">](</span><span style=\"color: #0000ff; text-decoration-color: #0000ff; text-decoration: underline\">https://www.eventbrite.com/blog/event-planning-playlist-ds00/)</span>\n",
              "Music sets the mood and provides the soundtrack <span style=\"font-weight: bold\">(</span>literally<span style=\"font-weight: bold\">)</span> for a memorable and exciting time. While the right \n",
              "songs can enhance the experience, the wrong event music can throw off the vibe. For example, fast-paced songs \n",
              "probably aren't the best fit for a formal gala. And smooth jazz is likely to lull your guests at a motivational \n",
              "conference.\n",
              "\n",
              "|The Best Songs For Parties - The Ambient Mixer \n",
              "Blog<span style=\"font-weight: bold\">](</span><span style=\"color: #0000ff; text-decoration-color: #0000ff; text-decoration: underline\">https://blog.ambient-mixer.com/usage/parties-2/the-best-songs-for-parties/)</span>\n",
              "The <span style=\"color: #008080; text-decoration-color: #008080; font-weight: bold\">100</span> best party songs ever made. Top <span style=\"color: #008080; text-decoration-color: #008080; font-weight: bold\">100</span> Best Party Songs Of All Time. Of course, these are just <span style=\"color: #008080; text-decoration-color: #008080; font-weight: bold\">2</span> of the many \n",
              "available playlists to choose from. However, these two contain some of the most popular ones most people usually \n",
              "end up using. If these are not the type of songs you or your guests might enjoy then simply follow the steps in the\n",
              "<span style=\"color: #808000; text-decoration-color: #808000\">...</span>\n",
              "\n",
              "|<span style=\"color: #008080; text-decoration-color: #008080; font-weight: bold\">200</span> Classic House Party Songs Everyone Knows | The Best <span style=\"color: #808000; text-decoration-color: #808000\">...</span> - \n",
              "iSpyTunes<span style=\"font-weight: bold\">](</span><span style=\"color: #0000ff; text-decoration-color: #0000ff; text-decoration: underline\">https://www.ispytunes.com/post/house-party-songs)</span>\n",
              "\" Branded merchandise adds flair to any occasion, just like the perfect playlist. <span style=\"color: #008080; text-decoration-color: #008080; font-weight: bold\">200</span> classic house party songs \n",
              "everyone knows set the mood, bringing energy to every celebration. The best popular party hits keep guests dancing,\n",
              "creating unforgettable moments. From throwback anthems to modern beats, a great selection ensures nonstop fun.\n",
              "\n",
              "|<span style=\"color: #008080; text-decoration-color: #008080; font-weight: bold\">50</span> Great Songs For A Dinner Party - Repeat Replay<span style=\"font-weight: bold\">](</span><span style=\"color: #0000ff; text-decoration-color: #0000ff; text-decoration: underline\">https://repeatreplay.com/50-great-songs-for-a-dinner-party/)</span>\n",
              "Trending Now: Best Songs For Memories Slideshow. <span style=\"color: #008080; text-decoration-color: #008080; font-weight: bold\">24</span>. <span style=\"color: #008000; text-decoration-color: #008000\">\"My Cherie Amour\"</span> by Stevie Wonder <span style=\"font-weight: bold\">(</span><span style=\"color: #008080; text-decoration-color: #008080; font-weight: bold\">1969</span><span style=\"font-weight: bold\">)</span> - Stevie Wonder's \n",
              "soulful vocals and romantic lyrics make this song a great choice for a more romantic dinner party. <span style=\"color: #808000; text-decoration-color: #808000\">...</span> - To create \n",
              "a memorable music playlist for a dinner party, choose songs that have personal significance or emotional <span style=\"color: #808000; text-decoration-color: #808000\">...</span>\n",
              "\n",
              "|DJs, Bands, &amp; Musicians for your event | Cueup - Cueup Blog<span style=\"font-weight: bold\">](</span><span style=\"color: #0000ff; text-decoration-color: #0000ff; text-decoration: underline\">https://cueup.io/blog/best-party-songs)</span>\n",
              "In this post, you'll find something for every event. No matter if you're composing the playlist or working with a \n",
              "DJ for the party, these are some of the particular songs that make an unforgettable party. Because You Loved Me - \n",
              "Celine Dion. Little L - Jamiroquai. Don't Go Breaking My Heart - Elton John and Kiki Dee. Sugar Sugar - The Archies\n",
              "\n",
              "|<span style=\"color: #008080; text-decoration-color: #008080; font-weight: bold\">123</span> of the Best Party Songs - SiriusXM<span style=\"font-weight: bold\">](</span><span style=\"color: #0000ff; text-decoration-color: #0000ff; text-decoration: underline\">https://www.siriusxm.com/blog/best-party-songs)</span>\n",
              "Here are the best party songs across all genres, from old classics guaranteed to get your toes tapping to country \n",
              "hits worth boot scootin' to and even throwback hip-hop jams to fill the dance floor. Let's party! SiriusXM Party \n",
              "Channels From dance-floor hits to karaoke faves Get <span style=\"color: #008080; text-decoration-color: #008080; font-weight: bold\">3</span> Months Free Get <span style=\"color: #008080; text-decoration-color: #008080; font-weight: bold\">3</span> Months Free.\n",
              "\n",
              "|Party Music Guide: Ultimate Tips for the Perfect \n",
              "Playlist<span style=\"font-weight: bold\">](</span><span style=\"color: #0000ff; text-decoration-color: #0000ff; text-decoration: underline\">https://thebackstage-deezer.com/music/perfect-party-music-playlist/)</span>\n",
              "Check out the best party playlists and top party songs to ensure your next party is packed! The most popular party \n",
              "songs are here, just hit play. <span style=\"color: #808000; text-decoration-color: #808000\">...</span> to decor. But, most of all, you need to have fantastic music. We recommend you \n",
              "get at least three hours' worth of party music queued and ready — that's about <span style=\"color: #008080; text-decoration-color: #008080; font-weight: bold\">75</span> songs. Lucky for you, we've <span style=\"color: #808000; text-decoration-color: #808000\">...</span>\n",
              "\n",
              "|Top <span style=\"color: #008080; text-decoration-color: #008080; font-weight: bold\">10</span> Best Music Albums For Your Dinner Party - domino<span style=\"font-weight: bold\">](</span><span style=\"color: #0000ff; text-decoration-color: #0000ff; text-decoration: underline\">https://www.domino.com/content/best-dinner-party-music/)</span>\n",
              "But only the most skilled of hosts know that the secret to mastering mood is music. Read on for the best dinner \n",
              "party albums you could <span style=\"font-weight: bold\">(</span>should<span style=\"font-weight: bold\">)</span> play at your next gathering. Green Onions, Booker T. &amp; the MG's. This classic Stax \n",
              "record features only instruments, no vocals, leaving plenty of room for chatter. Don't be surprised, though, if you\n",
              "<span style=\"color: #808000; text-decoration-color: #808000\">...</span>\n",
              "</pre>\n"
            ],
            "text/plain": [
              "Observations: ## Search Results\n",
              "\n",
              "|\u001b[1;36m45\u001b[0m Songs That Get Your Event Guests on the Dance Floor Every \n",
              "Time\u001b[1m]\u001b[0m\u001b[1m(\u001b[0m\u001b[4;94mhttps://hub.theeventplannerexpo.com/entertainment/35-songs-that-get-your-event-guests-on-the-dance-floor-ever\u001b[0m\n",
              "\u001b[4;94my-time\u001b[0m\u001b[4;94m)\u001b[0m\n",
              "You'll know your client's event best, including music genre preferences and styles. But these songs are wildly \n",
              "popular among many generations and are always great to have on standby should your dance guests need a boost. Party\n",
              "Songs \u001b[32m\"Flowers\"\u001b[0m by Miley Cyrus \u001b[1m(\u001b[0m\u001b[1;36m2023\u001b[0m\u001b[1m)\u001b[0m \u001b[32m\"TQG\"\u001b[0m by KAROL G & Shakira \u001b[1m(\u001b[0m\u001b[1;36m2023\u001b[0m\u001b[1m)\u001b[0m \u001b[32m\"TRUSTFALL\"\u001b[0m by P!nk \u001b[1m(\u001b[0m\u001b[1;36m2023\u001b[0m\u001b[1m)\u001b[0m\n",
              "\n",
              "|The \u001b[1;36m75\u001b[0m Best Party Songs That Will Get Everyone Dancing - \n",
              "Gear4music\u001b[1m]\u001b[0m\u001b[1m(\u001b[0m\u001b[4;94mhttps://www.gear4music.com/blog/best-party-songs/\u001b[0m\u001b[4;94m)\u001b[0m\n",
              "The best party songs \u001b[1;36m1\u001b[0m. \u001b[32m\"September\"\u001b[0m - Earth, Wind & Fire \u001b[1m(\u001b[0m\u001b[1;36m1978\u001b[0m\u001b[1m)\u001b[0m Quite possibly the best party song. An infectious \n",
              "mix of funk and soul, \u001b[32m\"September\"\u001b[0m is celebrated for its upbeat melody and \u001b[32m\"ba-dee-ya\"\u001b[0m chorus, making it a timeless \n",
              "dance favorite.\n",
              "\n",
              "|\u001b[1;36m50\u001b[0m Songs on Every Event Planner's Playlist - \n",
              "Eventbrite\u001b[1m]\u001b[0m\u001b[1m(\u001b[0m\u001b[4;94mhttps://www.eventbrite.com/blog/event-planning-playlist-ds00/\u001b[0m\u001b[4;94m)\u001b[0m\n",
              "Music sets the mood and provides the soundtrack \u001b[1m(\u001b[0mliterally\u001b[1m)\u001b[0m for a memorable and exciting time. While the right \n",
              "songs can enhance the experience, the wrong event music can throw off the vibe. For example, fast-paced songs \n",
              "probably aren't the best fit for a formal gala. And smooth jazz is likely to lull your guests at a motivational \n",
              "conference.\n",
              "\n",
              "|The Best Songs For Parties - The Ambient Mixer \n",
              "Blog\u001b[1m]\u001b[0m\u001b[1m(\u001b[0m\u001b[4;94mhttps://blog.ambient-mixer.com/usage/parties-2/the-best-songs-for-parties/\u001b[0m\u001b[4;94m)\u001b[0m\n",
              "The \u001b[1;36m100\u001b[0m best party songs ever made. Top \u001b[1;36m100\u001b[0m Best Party Songs Of All Time. Of course, these are just \u001b[1;36m2\u001b[0m of the many \n",
              "available playlists to choose from. However, these two contain some of the most popular ones most people usually \n",
              "end up using. If these are not the type of songs you or your guests might enjoy then simply follow the steps in the\n",
              "\u001b[33m...\u001b[0m\n",
              "\n",
              "|\u001b[1;36m200\u001b[0m Classic House Party Songs Everyone Knows | The Best \u001b[33m...\u001b[0m - \n",
              "iSpyTunes\u001b[1m]\u001b[0m\u001b[1m(\u001b[0m\u001b[4;94mhttps://www.ispytunes.com/post/house-party-songs\u001b[0m\u001b[4;94m)\u001b[0m\n",
              "\" Branded merchandise adds flair to any occasion, just like the perfect playlist. \u001b[1;36m200\u001b[0m classic house party songs \n",
              "everyone knows set the mood, bringing energy to every celebration. The best popular party hits keep guests dancing,\n",
              "creating unforgettable moments. From throwback anthems to modern beats, a great selection ensures nonstop fun.\n",
              "\n",
              "|\u001b[1;36m50\u001b[0m Great Songs For A Dinner Party - Repeat Replay\u001b[1m]\u001b[0m\u001b[1m(\u001b[0m\u001b[4;94mhttps://repeatreplay.com/50-great-songs-for-a-dinner-party/\u001b[0m\u001b[4;94m)\u001b[0m\n",
              "Trending Now: Best Songs For Memories Slideshow. \u001b[1;36m24\u001b[0m. \u001b[32m\"My Cherie Amour\"\u001b[0m by Stevie Wonder \u001b[1m(\u001b[0m\u001b[1;36m1969\u001b[0m\u001b[1m)\u001b[0m - Stevie Wonder's \n",
              "soulful vocals and romantic lyrics make this song a great choice for a more romantic dinner party. \u001b[33m...\u001b[0m - To create \n",
              "a memorable music playlist for a dinner party, choose songs that have personal significance or emotional \u001b[33m...\u001b[0m\n",
              "\n",
              "|DJs, Bands, & Musicians for your event | Cueup - Cueup Blog\u001b[1m]\u001b[0m\u001b[1m(\u001b[0m\u001b[4;94mhttps://cueup.io/blog/best-party-songs\u001b[0m\u001b[4;94m)\u001b[0m\n",
              "In this post, you'll find something for every event. No matter if you're composing the playlist or working with a \n",
              "DJ for the party, these are some of the particular songs that make an unforgettable party. Because You Loved Me - \n",
              "Celine Dion. Little L - Jamiroquai. Don't Go Breaking My Heart - Elton John and Kiki Dee. Sugar Sugar - The Archies\n",
              "\n",
              "|\u001b[1;36m123\u001b[0m of the Best Party Songs - SiriusXM\u001b[1m]\u001b[0m\u001b[1m(\u001b[0m\u001b[4;94mhttps://www.siriusxm.com/blog/best-party-songs\u001b[0m\u001b[4;94m)\u001b[0m\n",
              "Here are the best party songs across all genres, from old classics guaranteed to get your toes tapping to country \n",
              "hits worth boot scootin' to and even throwback hip-hop jams to fill the dance floor. Let's party! SiriusXM Party \n",
              "Channels From dance-floor hits to karaoke faves Get \u001b[1;36m3\u001b[0m Months Free Get \u001b[1;36m3\u001b[0m Months Free.\n",
              "\n",
              "|Party Music Guide: Ultimate Tips for the Perfect \n",
              "Playlist\u001b[1m]\u001b[0m\u001b[1m(\u001b[0m\u001b[4;94mhttps://thebackstage-deezer.com/music/perfect-party-music-playlist/\u001b[0m\u001b[4;94m)\u001b[0m\n",
              "Check out the best party playlists and top party songs to ensure your next party is packed! The most popular party \n",
              "songs are here, just hit play. \u001b[33m...\u001b[0m to decor. But, most of all, you need to have fantastic music. We recommend you \n",
              "get at least three hours' worth of party music queued and ready — that's about \u001b[1;36m75\u001b[0m songs. Lucky for you, we've \u001b[33m...\u001b[0m\n",
              "\n",
              "|Top \u001b[1;36m10\u001b[0m Best Music Albums For Your Dinner Party - domino\u001b[1m]\u001b[0m\u001b[1m(\u001b[0m\u001b[4;94mhttps://www.domino.com/content/best-dinner-party-music/\u001b[0m\u001b[4;94m)\u001b[0m\n",
              "But only the most skilled of hosts know that the secret to mastering mood is music. Read on for the best dinner \n",
              "party albums you could \u001b[1m(\u001b[0mshould\u001b[1m)\u001b[0m play at your next gathering. Green Onions, Booker T. & the MG's. This classic Stax \n",
              "record features only instruments, no vocals, leaving plenty of room for chatter. Don't be surprised, though, if you\n",
              "\u001b[33m...\u001b[0m\n"
            ]
          },
          "metadata": {},
          "output_type": "display_data"
        },
        {
          "data": {
            "text/html": [
              "<pre style=\"white-space:pre;overflow-x:auto;line-height:normal;font-family:Menlo,'DejaVu Sans Mono',consolas,'Courier New',monospace\"><span style=\"color: #7f7f7f; text-decoration-color: #7f7f7f\">[Step 0: Duration 1.32 seconds| Input tokens: 1,174 | Output tokens: 30]</span>\n",
              "</pre>\n"
            ],
            "text/plain": [
              "\u001b[2m[Step 0: Duration 1.32 seconds| Input tokens: 1,174 | Output tokens: 30]\u001b[0m\n"
            ]
          },
          "metadata": {},
          "output_type": "display_data"
        },
        {
          "data": {
            "text/html": [
              "<pre style=\"white-space:pre;overflow-x:auto;line-height:normal;font-family:Menlo,'DejaVu Sans Mono',consolas,'Courier New',monospace\"><span style=\"color: #d4b702; text-decoration-color: #d4b702\">━━━━━━━━━━━━━━━━━━━━━━━━━━━━━━━━━━━━━━━━━━━━━━━━━━━━━ </span><span style=\"font-weight: bold\">Step </span><span style=\"color: #008080; text-decoration-color: #008080; font-weight: bold\">2</span><span style=\"color: #d4b702; text-decoration-color: #d4b702\"> ━━━━━━━━━━━━━━━━━━━━━━━━━━━━━━━━━━━━━━━━━━━━━━━━━━━━━━</span>\n",
              "</pre>\n"
            ],
            "text/plain": [
              "\u001b[38;2;212;183;2m━━━━━━━━━━━━━━━━━━━━━━━━━━━━━━━━━━━━━━━━━━━━━━━━━━━━━ \u001b[0m\u001b[1mStep \u001b[0m\u001b[1;36m2\u001b[0m\u001b[38;2;212;183;2m ━━━━━━━━━━━━━━━━━━━━━━━━━━━━━━━━━━━━━━━━━━━━━━━━━━━━━━\u001b[0m\n"
            ]
          },
          "metadata": {},
          "output_type": "display_data"
        },
        {
          "data": {
            "text/html": [
              "<pre style=\"white-space:pre;overflow-x:auto;line-height:normal;font-family:Menlo,'DejaVu Sans Mono',consolas,'Courier New',monospace\">╭─────────────────────────────────────────────────────────────────────────────────────────────────────────────────╮\n",
              "│ Calling tool: 'final_answer' with arguments: {'answer': \"Based on the search results, here are some popular     │\n",
              "│ party songs suitable for a gathering at Wayne's mansion:\\\\\"}                                                    │\n",
              "╰─────────────────────────────────────────────────────────────────────────────────────────────────────────────────╯\n",
              "</pre>\n"
            ],
            "text/plain": [
              "╭─────────────────────────────────────────────────────────────────────────────────────────────────────────────────╮\n",
              "│ Calling tool: 'final_answer' with arguments: {'answer': \"Based on the search results, here are some popular     │\n",
              "│ party songs suitable for a gathering at Wayne's mansion:\\\\\"}                                                    │\n",
              "╰─────────────────────────────────────────────────────────────────────────────────────────────────────────────────╯\n"
            ]
          },
          "metadata": {},
          "output_type": "display_data"
        },
        {
          "data": {
            "text/html": [
              "<pre style=\"white-space:pre;overflow-x:auto;line-height:normal;font-family:Menlo,'DejaVu Sans Mono',consolas,'Courier New',monospace\"><span style=\"color: #d4b702; text-decoration-color: #d4b702; font-weight: bold\">Final answer: Based on the search results, here are some popular party songs suitable for a gathering at Wayne's </span>\n",
              "<span style=\"color: #d4b702; text-decoration-color: #d4b702; font-weight: bold\">mansion:\\</span>\n",
              "</pre>\n"
            ],
            "text/plain": [
              "\u001b[1;38;2;212;183;2mFinal answer: Based on the search results, here are some popular party songs suitable for a gathering at Wayne's \u001b[0m\n",
              "\u001b[1;38;2;212;183;2mmansion:\\\u001b[0m\n"
            ]
          },
          "metadata": {},
          "output_type": "display_data"
        },
        {
          "data": {
            "text/html": [
              "<pre style=\"white-space:pre;overflow-x:auto;line-height:normal;font-family:Menlo,'DejaVu Sans Mono',consolas,'Courier New',monospace\"><span style=\"color: #7f7f7f; text-decoration-color: #7f7f7f\">[Step 1: Duration 6.77 seconds| Input tokens: 3,509 | Output tokens: 73]</span>\n",
              "</pre>\n"
            ],
            "text/plain": [
              "\u001b[2m[Step 1: Duration 6.77 seconds| Input tokens: 3,509 | Output tokens: 73]\u001b[0m\n"
            ]
          },
          "metadata": {},
          "output_type": "display_data"
        },
        {
          "data": {
            "text/plain": [
              "\"Based on the search results, here are some popular party songs suitable for a gathering at Wayne's mansion:\\\\\""
            ]
          },
          "execution_count": 3,
          "metadata": {},
          "output_type": "execute_result"
        }
      ],
      "source": [
        "from smolagents import ToolCallingAgent, DuckDuckGoSearchTool, HfApiModel\n",
        "\n",
        "agent = ToolCallingAgent(tools=[DuckDuckGoSearchTool()], model=HfApiModel())\n",
        "\n",
        "agent.run(\"Search for the best music recommendations for a party at the Wayne's mansion.\")"
      ]
    },
    {
      "cell_type": "markdown",
      "metadata": {
        "id": "Cl19VWGRYXrr"
      },
      "source": [
        "\n",
        "When you examine the agent's trace, instead of seeing `Executing parsed code:`, you'll see something like:\n",
        "\n",
        "```text\n",
        "╭─────────────────────────────────────────────────────────────────────────────────────────────────────────────────╮\n",
        "│ Calling tool: 'web_search' with arguments: {'query': \"best music recommendations for a party at Wayne's         │\n",
        "│ mansion\"}                                                                                                       │\n",
        "╰─────────────────────────────────────────────────────────────────────────────────────────────────────────────────╯\n",
        "```  \n",
        "\n",
        "The agent generates a structured tool call that the system processes to produce the output, rather than directly executing code like a `CodeAgent`.\n",
        "\n",
        "Now that we understand both agent types, we can choose the right one for our needs. Let's continue exploring `smolagents` to make Alfred's party a success! 🎉"
      ]
    }
  ],
  "metadata": {
    "colab": {
      "provenance": []
    },
    "kernelspec": {
      "display_name": ".venv",
      "language": "python",
      "name": "python3"
    },
    "language_info": {
      "codemirror_mode": {
        "name": "ipython",
        "version": 3
      },
      "file_extension": ".py",
      "mimetype": "text/x-python",
      "name": "python",
      "nbconvert_exporter": "python",
      "pygments_lexer": "ipython3",
      "version": "3.11.11"
    },
    "vscode": {
      "interpreter": {
        "hash": "56eaeff6d1d2396fba8a1359e5066b7802cd1039122f41bd2bd0871b160a011a"
      }
    }
  },
  "nbformat": 4,
  "nbformat_minor": 0
}
