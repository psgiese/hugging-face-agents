{
 "cells": [
  {
   "cell_type": "markdown",
   "id": "c102e2f6",
   "metadata": {},
   "source": [
    "# Load Model"
   ]
  },
  {
   "cell_type": "markdown",
   "id": "276be975",
   "metadata": {},
   "source": [
    "You need to start by making a local copy of the model, because the hugging face AutoModel.from_pretrained() method expects a local path (./models/opus...)... I would cd into the directory of this notebook, and git clone it with the following commands. "
   ]
  },
  {
   "cell_type": "raw",
   "id": "088f1ab9",
   "metadata": {},
   "source": [
    "rm -rf opus-mt-en-id  # Remove incomplete clone\n",
    "git clone https://huggingface.co/Helsinki-NLP/opus-mt-en-id\n",
    "cd opus-mt-en-id\n",
    "git lfs pull "
   ]
  },
  {
   "cell_type": "code",
   "execution_count": 1,
   "id": "a95179be",
   "metadata": {},
   "outputs": [
    {
     "name": "stdout",
     "output_type": "stream",
     "text": [
      "making a change to force commit\n"
     ]
    }
   ],
   "source": [
    "print(\"making a change to force commit\")"
   ]
  },
  {
   "cell_type": "code",
   "execution_count": 3,
   "id": "ada78294",
   "metadata": {},
   "outputs": [
    {
     "name": "stdout",
     "output_type": "stream",
     "text": [
      "Downloading opus-mt-en-id/.git/HEAD to ./opus-mt-en-id/HEAD...\n",
      "Downloading opus-mt-en-id/.git/config to ./opus-mt-en-id/config...\n",
      "Downloading opus-mt-en-id/.git/description to ./opus-mt-en-id/description...\n",
      "Downloading opus-mt-en-id/.git/hooks/applypatch-msg.sample to ./opus-mt-en-id/applypatch-msg.sample...\n",
      "Downloading opus-mt-en-id/.git/hooks/commit-msg.sample to ./opus-mt-en-id/commit-msg.sample...\n",
      "Downloading opus-mt-en-id/.git/hooks/fsmonitor-watchman.sample to ./opus-mt-en-id/fsmonitor-watchman.sample...\n",
      "Downloading opus-mt-en-id/.git/hooks/post-update.sample to ./opus-mt-en-id/post-update.sample...\n",
      "Downloading opus-mt-en-id/.git/hooks/pre-applypatch.sample to ./opus-mt-en-id/pre-applypatch.sample...\n",
      "Downloading opus-mt-en-id/.git/hooks/pre-commit.sample to ./opus-mt-en-id/pre-commit.sample...\n",
      "Downloading opus-mt-en-id/.git/hooks/pre-merge-commit.sample to ./opus-mt-en-id/pre-merge-commit.sample...\n",
      "Downloading opus-mt-en-id/.git/hooks/pre-push.sample to ./opus-mt-en-id/pre-push.sample...\n",
      "Downloading opus-mt-en-id/.git/hooks/pre-rebase.sample to ./opus-mt-en-id/pre-rebase.sample...\n",
      "Downloading opus-mt-en-id/.git/hooks/pre-receive.sample to ./opus-mt-en-id/pre-receive.sample...\n",
      "Downloading opus-mt-en-id/.git/hooks/prepare-commit-msg.sample to ./opus-mt-en-id/prepare-commit-msg.sample...\n",
      "Downloading opus-mt-en-id/.git/hooks/push-to-checkout.sample to ./opus-mt-en-id/push-to-checkout.sample...\n",
      "Downloading opus-mt-en-id/.git/hooks/update.sample to ./opus-mt-en-id/update.sample...\n",
      "Downloading opus-mt-en-id/.git/index to ./opus-mt-en-id/index...\n",
      "Downloading opus-mt-en-id/.git/info/exclude to ./opus-mt-en-id/exclude...\n",
      "Downloading opus-mt-en-id/.git/logs/HEAD to ./opus-mt-en-id/HEAD...\n",
      "Downloading opus-mt-en-id/.git/logs/refs/heads/main to ./opus-mt-en-id/main...\n",
      "Downloading opus-mt-en-id/.git/logs/refs/remotes/origin/HEAD to ./opus-mt-en-id/HEAD...\n",
      "Downloading opus-mt-en-id/.git/objects/02/1d9d58cb2edcb4febb187d06d98b4385d2ee3b to ./opus-mt-en-id/1d9d58cb2edcb4febb187d06d98b4385d2ee3b...\n",
      "Downloading opus-mt-en-id/.git/objects/05/2fd659487dd0d1a655969050e97950f83dc903 to ./opus-mt-en-id/2fd659487dd0d1a655969050e97950f83dc903...\n",
      "Downloading opus-mt-en-id/.git/objects/07/3e0298b708c56cf131c7f40945ba9bfdbbed9e to ./opus-mt-en-id/3e0298b708c56cf131c7f40945ba9bfdbbed9e...\n",
      "Downloading opus-mt-en-id/.git/objects/07/f0bd5aeb88f735543159b0c013b2b04231093a to ./opus-mt-en-id/f0bd5aeb88f735543159b0c013b2b04231093a...\n",
      "Downloading opus-mt-en-id/.git/objects/11/d2261c417f9a172d7b29e8ab5e66f9a66642c3 to ./opus-mt-en-id/d2261c417f9a172d7b29e8ab5e66f9a66642c3...\n",
      "Downloading opus-mt-en-id/.git/objects/14/2d1b98354979b70fa51117fc8fe8236d81ae67 to ./opus-mt-en-id/2d1b98354979b70fa51117fc8fe8236d81ae67...\n",
      "Downloading opus-mt-en-id/.git/objects/1b/0df87c057de4b5e3e05e2ec9c1b8a655293bc4 to ./opus-mt-en-id/0df87c057de4b5e3e05e2ec9c1b8a655293bc4...\n",
      "Downloading opus-mt-en-id/.git/objects/20/b20e10f6ddf0127fe2247cf95a37467627e3ff to ./opus-mt-en-id/b20e10f6ddf0127fe2247cf95a37467627e3ff...\n",
      "Downloading opus-mt-en-id/.git/objects/21/5ab7a2a574780e774f9b54e0dbcd2db9961cb3 to ./opus-mt-en-id/5ab7a2a574780e774f9b54e0dbcd2db9961cb3...\n",
      "Downloading opus-mt-en-id/.git/objects/22/3c21889780c001746ad44b99af28c5c374c776 to ./opus-mt-en-id/3c21889780c001746ad44b99af28c5c374c776...\n",
      "Downloading opus-mt-en-id/.git/objects/23/3d63ab61a8a4570a0de2061cab8777a653d554 to ./opus-mt-en-id/3d63ab61a8a4570a0de2061cab8777a653d554...\n",
      "Downloading opus-mt-en-id/.git/objects/2e/b5c0bf0e1a3f850f71ea6bb18cdc55025249eb to ./opus-mt-en-id/b5c0bf0e1a3f850f71ea6bb18cdc55025249eb...\n",
      "Downloading opus-mt-en-id/.git/objects/32/ef3eda1456b981b159af1f2c642e65dd706a91 to ./opus-mt-en-id/ef3eda1456b981b159af1f2c642e65dd706a91...\n",
      "Downloading opus-mt-en-id/.git/objects/34/99c1fbdf9311c199fbd2b8687ce04b284036e4 to ./opus-mt-en-id/99c1fbdf9311c199fbd2b8687ce04b284036e4...\n",
      "Downloading opus-mt-en-id/.git/objects/35/9922f6c964a4bb20608a2f7419dca4f31d36ce to ./opus-mt-en-id/9922f6c964a4bb20608a2f7419dca4f31d36ce...\n",
      "Downloading opus-mt-en-id/.git/objects/35/9b664128bbeb951432284418212663aef579a6 to ./opus-mt-en-id/9b664128bbeb951432284418212663aef579a6...\n",
      "Downloading opus-mt-en-id/.git/objects/36/6e53731c0ccb1c3bd0c0920103442217b6fc51 to ./opus-mt-en-id/6e53731c0ccb1c3bd0c0920103442217b6fc51...\n",
      "Downloading opus-mt-en-id/.git/objects/42/03fab0de75fe84a128b4792dc75b25b899d3fd to ./opus-mt-en-id/03fab0de75fe84a128b4792dc75b25b899d3fd...\n",
      "Downloading opus-mt-en-id/.git/objects/47/d980f88fa904293e198ba51744b2226d009571 to ./opus-mt-en-id/d980f88fa904293e198ba51744b2226d009571...\n",
      "Downloading opus-mt-en-id/.git/objects/48/66e036613d89db4c55e0b24656b0ea982b17db to ./opus-mt-en-id/66e036613d89db4c55e0b24656b0ea982b17db...\n",
      "Downloading opus-mt-en-id/.git/objects/53/e4eedaf0c770bf2102abdad3277d1bca3bf346 to ./opus-mt-en-id/e4eedaf0c770bf2102abdad3277d1bca3bf346...\n",
      "Downloading opus-mt-en-id/.git/objects/57/0a6d5180241e28170995bc5994a068e1ed0f31 to ./opus-mt-en-id/0a6d5180241e28170995bc5994a068e1ed0f31...\n",
      "Downloading opus-mt-en-id/.git/objects/5a/2852f9b7c31fe9134262c4619353172995897a to ./opus-mt-en-id/2852f9b7c31fe9134262c4619353172995897a...\n",
      "Downloading opus-mt-en-id/.git/objects/60/2d8cb79444165423c86d66680aee899aa9d21a to ./opus-mt-en-id/2d8cb79444165423c86d66680aee899aa9d21a...\n",
      "Downloading opus-mt-en-id/.git/objects/67/fb9733564ceb0663d8b148f155db495d5baf8e to ./opus-mt-en-id/fb9733564ceb0663d8b148f155db495d5baf8e...\n",
      "Downloading opus-mt-en-id/.git/objects/69/44505b7811ddd00a407d98119974460374e527 to ./opus-mt-en-id/44505b7811ddd00a407d98119974460374e527...\n",
      "Downloading opus-mt-en-id/.git/objects/6c/0ae9890c02ee98ad8a27d114cd3c38e8745c98 to ./opus-mt-en-id/0ae9890c02ee98ad8a27d114cd3c38e8745c98...\n",
      "Downloading opus-mt-en-id/.git/objects/6c/7681a7965a33dfe684b5c3244d589b11e5533c to ./opus-mt-en-id/7681a7965a33dfe684b5c3244d589b11e5533c...\n",
      "Downloading opus-mt-en-id/.git/objects/6e/4c52d61a6b16fe3509b0267cbfec65011b860b to ./opus-mt-en-id/4c52d61a6b16fe3509b0267cbfec65011b860b...\n",
      "Downloading opus-mt-en-id/.git/objects/71/2f843fe03a214b38b75710507139a3c9f597ee to ./opus-mt-en-id/2f843fe03a214b38b75710507139a3c9f597ee...\n",
      "Downloading opus-mt-en-id/.git/objects/81/a16bf71663cf5a16ac0b595d7c8221dd8e277d to ./opus-mt-en-id/a16bf71663cf5a16ac0b595d7c8221dd8e277d...\n",
      "Downloading opus-mt-en-id/.git/objects/83/7d90c51e26124fac57634a710b55d81bea148b to ./opus-mt-en-id/7d90c51e26124fac57634a710b55d81bea148b...\n",
      "Downloading opus-mt-en-id/.git/objects/94/b28b24e7f27783390b43dd02b4d57538f442b6 to ./opus-mt-en-id/b28b24e7f27783390b43dd02b4d57538f442b6...\n",
      "Downloading opus-mt-en-id/.git/objects/96/10f834e8d2ee16f766b7662eebdd42bda5c58d to ./opus-mt-en-id/10f834e8d2ee16f766b7662eebdd42bda5c58d...\n",
      "Downloading opus-mt-en-id/.git/objects/97/87692131cb412494d94e701dfaaa6963083eea to ./opus-mt-en-id/87692131cb412494d94e701dfaaa6963083eea...\n",
      "Downloading opus-mt-en-id/.git/objects/9f/c9b73017803bd47bba33e2513ba86746814e2e to ./opus-mt-en-id/c9b73017803bd47bba33e2513ba86746814e2e...\n",
      "Downloading opus-mt-en-id/.git/objects/a1/cffac3e605ebe90ea87b1cc28e24f01602c400 to ./opus-mt-en-id/cffac3e605ebe90ea87b1cc28e24f01602c400...\n",
      "Downloading opus-mt-en-id/.git/objects/a2/8d3c7d5bc2700932e5f543967ccc828a5537c4 to ./opus-mt-en-id/8d3c7d5bc2700932e5f543967ccc828a5537c4...\n",
      "Downloading opus-mt-en-id/.git/objects/ab/ef34fbf5248b8e1d1614695cfd4464ffd4d282 to ./opus-mt-en-id/ef34fbf5248b8e1d1614695cfd4464ffd4d282...\n",
      "Downloading opus-mt-en-id/.git/objects/ac/0bcecb2763f3c2d4c5fc4b9db37bef7f29e42e to ./opus-mt-en-id/0bcecb2763f3c2d4c5fc4b9db37bef7f29e42e...\n",
      "Downloading opus-mt-en-id/.git/objects/b4/e50acc4c202d5fbfb8f964d81cb2631c7f9819 to ./opus-mt-en-id/e50acc4c202d5fbfb8f964d81cb2631c7f9819...\n",
      "Downloading opus-mt-en-id/.git/objects/ba/bff3f3e8ab705101f39f64b567a49ce09bc056 to ./opus-mt-en-id/bff3f3e8ab705101f39f64b567a49ce09bc056...\n",
      "Downloading opus-mt-en-id/.git/objects/bb/0a2581387da65f0650ff8b68b00e316fadb23f to ./opus-mt-en-id/0a2581387da65f0650ff8b68b00e316fadb23f...\n",
      "Downloading opus-mt-en-id/.git/objects/be/23b8065f0643e7ada71c89e8b507959c56ce83 to ./opus-mt-en-id/23b8065f0643e7ada71c89e8b507959c56ce83...\n",
      "Downloading opus-mt-en-id/.git/objects/c3/1936126831745499f713b5caaf2b8413e77589 to ./opus-mt-en-id/1936126831745499f713b5caaf2b8413e77589...\n",
      "Downloading opus-mt-en-id/.git/objects/c5/c40efe81a7982cb2ce0582960f9220b435e26f to ./opus-mt-en-id/c40efe81a7982cb2ce0582960f9220b435e26f...\n",
      "Downloading opus-mt-en-id/.git/objects/cb/58c8c867056ae7c1fe14c962d86fbd333e0997 to ./opus-mt-en-id/58c8c867056ae7c1fe14c962d86fbd333e0997...\n",
      "Downloading opus-mt-en-id/.git/objects/d3/a89441e497f6d2af0fb07b4810ffe45b3a884b to ./opus-mt-en-id/a89441e497f6d2af0fb07b4810ffe45b3a884b...\n",
      "Downloading opus-mt-en-id/.git/objects/d4/003b88c53a15872b85941e04def2247499f141 to ./opus-mt-en-id/003b88c53a15872b85941e04def2247499f141...\n",
      "Downloading opus-mt-en-id/.git/objects/d5/9db2234d60217c0a0041afda94d195aef539cd to ./opus-mt-en-id/9db2234d60217c0a0041afda94d195aef539cd...\n",
      "Downloading opus-mt-en-id/.git/objects/d7/82611e4763f7a3909c2ee415f23d2d97c30943 to ./opus-mt-en-id/82611e4763f7a3909c2ee415f23d2d97c30943...\n",
      "Downloading opus-mt-en-id/.git/objects/db/a1ac4a9be23455bc8b1668ba42b101fd736915 to ./opus-mt-en-id/a1ac4a9be23455bc8b1668ba42b101fd736915...\n"
     ]
    },
    {
     "name": "stdout",
     "output_type": "stream",
     "text": [
      "Downloading opus-mt-en-id/.git/objects/dc/08351d4dc0732d9c8af04070ced089b201ce2f to ./opus-mt-en-id/08351d4dc0732d9c8af04070ced089b201ce2f...\n",
      "Downloading opus-mt-en-id/.git/objects/df/8dac60213ee0398ebe1849707907669438af72 to ./opus-mt-en-id/8dac60213ee0398ebe1849707907669438af72...\n",
      "Downloading opus-mt-en-id/.git/objects/e4/7d75e151da1a8c508ae0d7ad511b25e88d087c to ./opus-mt-en-id/7d75e151da1a8c508ae0d7ad511b25e88d087c...\n",
      "Downloading opus-mt-en-id/.git/objects/e6/ec1becc7db513fccf5cd75afeccc398b0a13fc to ./opus-mt-en-id/ec1becc7db513fccf5cd75afeccc398b0a13fc...\n",
      "Downloading opus-mt-en-id/.git/objects/e8/feb97a8398250a3d42bc2eafe4b2fa9e0544ca to ./opus-mt-en-id/feb97a8398250a3d42bc2eafe4b2fa9e0544ca...\n",
      "Downloading opus-mt-en-id/.git/objects/e9/1f0583eeaffe0dfe04fc7bd0b0c7878c171bd8 to ./opus-mt-en-id/1f0583eeaffe0dfe04fc7bd0b0c7878c171bd8...\n",
      "Downloading opus-mt-en-id/.git/objects/ea/76ba15148c11ae2446e6ca0fdc8be6682ed59f to ./opus-mt-en-id/76ba15148c11ae2446e6ca0fdc8be6682ed59f...\n",
      "Downloading opus-mt-en-id/.git/objects/ed/4f67aeeb72d0f4d672d0bf78b89da24ab7f68b to ./opus-mt-en-id/4f67aeeb72d0f4d672d0bf78b89da24ab7f68b...\n",
      "Downloading opus-mt-en-id/.git/objects/ee/bc6aec951e684f7bb458e0ded886bf78edd4f7 to ./opus-mt-en-id/bc6aec951e684f7bb458e0ded886bf78edd4f7...\n",
      "Downloading opus-mt-en-id/.git/objects/ef/ace9e96b0165a12b8e484ea7398d2d6c799747 to ./opus-mt-en-id/ace9e96b0165a12b8e484ea7398d2d6c799747...\n",
      "Downloading opus-mt-en-id/.git/objects/fc/2e0c28ee99490d827afa92774b78195c1a86a3 to ./opus-mt-en-id/2e0c28ee99490d827afa92774b78195c1a86a3...\n",
      "Downloading opus-mt-en-id/.git/objects/fe/f4889727a9e8d4556a15da5fcc57737bfe5f76 to ./opus-mt-en-id/f4889727a9e8d4556a15da5fcc57737bfe5f76...\n",
      "Downloading opus-mt-en-id/.git/objects/ff/740044f9e71bcd139e0bb200171278b2077f17 to ./opus-mt-en-id/740044f9e71bcd139e0bb200171278b2077f17...\n",
      "Downloading opus-mt-en-id/.git/packed-refs to ./opus-mt-en-id/packed-refs...\n",
      "Downloading opus-mt-en-id/.git/refs/heads/main to ./opus-mt-en-id/main...\n",
      "Downloading opus-mt-en-id/.git/refs/remotes/origin/HEAD to ./opus-mt-en-id/HEAD...\n",
      "Downloading opus-mt-en-id/.gitattributes to ./opus-mt-en-id/.gitattributes...\n",
      "Downloading opus-mt-en-id/README.md to ./opus-mt-en-id/README.md...\n",
      "Downloading opus-mt-en-id/config.json to ./opus-mt-en-id/config.json...\n",
      "Downloading opus-mt-en-id/generation_config.json to ./opus-mt-en-id/generation_config.json...\n",
      "Downloading opus-mt-en-id/pytorch_model.bin to ./opus-mt-en-id/pytorch_model.bin...\n",
      "Downloading opus-mt-en-id/source.spm to ./opus-mt-en-id/source.spm...\n",
      "Downloading opus-mt-en-id/target.spm to ./opus-mt-en-id/target.spm...\n",
      "Downloading opus-mt-en-id/tf_model.h5 to ./opus-mt-en-id/tf_model.h5...\n",
      "Downloading opus-mt-en-id/tokenizer_config.json to ./opus-mt-en-id/tokenizer_config.json...\n",
      "Downloading opus-mt-en-id/vocab.json to ./opus-mt-en-id/vocab.json...\n",
      "Model download complete!\n"
     ]
    }
   ],
   "source": [
    "# import boto3\n",
    "# import os\n",
    "\n",
    "# # Define S3 bucket and model path\n",
    "# bucket_name = \"comfy-4\"\n",
    "# model_s3_prefix = \"opus-mt-en-id/\"  # Folder in S3\n",
    "# local_model_path = \"./opus-mt-en-id/\"  # Local path to store model\n",
    "\n",
    "# # Create local directory if not exists\n",
    "# os.makedirs(local_model_path, exist_ok=True)\n",
    "\n",
    "# # Initialize S3 client\n",
    "# s3 = boto3.client(\"s3\")\n",
    "\n",
    "# # List all files in the model folder\n",
    "# response = s3.list_objects_v2(Bucket=bucket_name, Prefix=model_s3_prefix)\n",
    "\n",
    "# if \"Contents\" in response:\n",
    "#     for obj in response[\"Contents\"]:\n",
    "#         s3_file = obj[\"Key\"]\n",
    "#         local_file = os.path.join(local_model_path, os.path.basename(s3_file))\n",
    "\n",
    "#         print(f\"Downloading {s3_file} to {local_file}...\")\n",
    "#         s3.download_file(bucket_name, s3_file, local_file)\n",
    "\n",
    "#     print(\"Model download complete!\")\n",
    "# else:\n",
    "#     print(\"No files found in S3 model folder.\")\n"
   ]
  },
  {
   "cell_type": "code",
   "execution_count": 2,
   "id": "7094e9a7",
   "metadata": {},
   "outputs": [],
   "source": [
    "from transformers import AutoModel\n",
    "\n",
    "model_path = \"./opus-mt-en-id/\"  # Local path to downloaded model\n",
    "model = AutoModel.from_pretrained(model_path)"
   ]
  },
  {
   "cell_type": "code",
   "execution_count": null,
   "id": "b2965eb0",
   "metadata": {},
   "outputs": [],
   "source": [
    "model."
   ]
  }
 ],
 "metadata": {
  "kernelspec": {
   "display_name": "agents-course",
   "language": "python",
   "name": "agents-course"
  },
  "language_info": {
   "codemirror_mode": {
    "name": "ipython",
    "version": 3
   },
   "file_extension": ".py",
   "mimetype": "text/x-python",
   "name": "python",
   "nbconvert_exporter": "python",
   "pygments_lexer": "ipython3",
   "version": "3.11.11"
  }
 },
 "nbformat": 4,
 "nbformat_minor": 5
}
